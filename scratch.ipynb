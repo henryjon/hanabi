{
 "cells": [
  {
   "cell_type": "code",
   "execution_count": 20,
   "metadata": {
    "ExecuteTime": {
     "end_time": "2019-07-21T21:05:38.484991Z",
     "start_time": "2019-07-21T21:05:38.481421Z"
    }
   },
   "outputs": [],
   "source": [
    "import importlib\n",
    "import hanabi"
   ]
  },
  {
   "cell_type": "code",
   "execution_count": 45,
   "metadata": {
    "ExecuteTime": {
     "end_time": "2019-07-21T21:13:55.967157Z",
     "start_time": "2019-07-21T21:13:55.959826Z"
    }
   },
   "outputs": [
    {
     "name": "stdout",
     "output_type": "stream",
     "text": [
      "Cards shuffled, top card:  ('yellow', 4)\n"
     ]
    }
   ],
   "source": [
    "importlib.reload(hanabi)\n",
    "game1 = hanabi.Game()\n",
    "\n",
    "game1.play()"
   ]
  },
  {
   "cell_type": "code",
   "execution_count": 46,
   "metadata": {
    "ExecuteTime": {
     "end_time": "2019-07-21T21:14:10.356033Z",
     "start_time": "2019-07-21T21:14:10.351203Z"
    }
   },
   "outputs": [
    {
     "data": {
      "text/plain": [
       "[('yellow', 5), ('yellow', 4), ('red', 4), ('green', 4), ('red', 2)]"
      ]
     },
     "execution_count": 46,
     "metadata": {},
     "output_type": "execute_result"
    }
   ],
   "source": [
    "game1.players[0].hand"
   ]
  },
  {
   "cell_type": "code",
   "execution_count": 47,
   "metadata": {
    "ExecuteTime": {
     "end_time": "2019-07-21T21:14:11.421943Z",
     "start_time": "2019-07-21T21:14:11.415120Z"
    }
   },
   "outputs": [
    {
     "data": {
      "text/plain": [
       "[('white', 4), ('red', 1), ('yellow', 2), ('yellow', 1), ('blue', 5)]"
      ]
     },
     "execution_count": 47,
     "metadata": {},
     "output_type": "execute_result"
    }
   ],
   "source": [
    "game1.players[1].hand"
   ]
  },
  {
   "cell_type": "code",
   "execution_count": 48,
   "metadata": {
    "ExecuteTime": {
     "end_time": "2019-07-21T21:14:12.548919Z",
     "start_time": "2019-07-21T21:14:12.544207Z"
    }
   },
   "outputs": [
    {
     "data": {
      "text/plain": [
       "45"
      ]
     },
     "execution_count": 48,
     "metadata": {},
     "output_type": "execute_result"
    }
   ],
   "source": [
    "len(game1.players[0].brain.deck_or_mine)"
   ]
  },
  {
   "cell_type": "code",
   "execution_count": 49,
   "metadata": {
    "ExecuteTime": {
     "end_time": "2019-07-21T21:14:13.405019Z",
     "start_time": "2019-07-21T21:14:13.398858Z"
    }
   },
   "outputs": [
    {
     "data": {
      "text/plain": [
       "24"
      ]
     },
     "execution_count": 49,
     "metadata": {},
     "output_type": "execute_result"
    }
   ],
   "source": [
    "len(game1.players[0].brain.i_know[0])"
   ]
  },
  {
   "cell_type": "code",
   "execution_count": null,
   "metadata": {},
   "outputs": [],
   "source": [
    "game1.players[0].brain."
   ]
  }
 ],
 "metadata": {
  "hide_input": false,
  "kernelspec": {
   "display_name": "Python [conda env:stats] *",
   "language": "python",
   "name": "conda-env-stats-py"
  },
  "language_info": {
   "codemirror_mode": {
    "name": "ipython",
    "version": 3
   },
   "file_extension": ".py",
   "mimetype": "text/x-python",
   "name": "python",
   "nbconvert_exporter": "python",
   "pygments_lexer": "ipython3",
   "version": "3.7.3"
  },
  "toc": {
   "base_numbering": 1,
   "nav_menu": {},
   "number_sections": true,
   "sideBar": true,
   "skip_h1_title": false,
   "title_cell": "Table of Contents",
   "title_sidebar": "Contents",
   "toc_cell": false,
   "toc_position": {},
   "toc_section_display": true,
   "toc_window_display": false
  }
 },
 "nbformat": 4,
 "nbformat_minor": 2
}
